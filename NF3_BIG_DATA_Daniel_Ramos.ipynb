{
  "nbformat": 4,
  "nbformat_minor": 0,
  "metadata": {
    "colab": {
      "provenance": [],
      "authorship_tag": "ABX9TyP/WJANk1s58RMuxhvIEvEK",
      "include_colab_link": true
    },
    "kernelspec": {
      "name": "python3",
      "display_name": "Python 3"
    },
    "language_info": {
      "name": "python"
    }
  },
  "cells": [
    {
      "cell_type": "markdown",
      "metadata": {
        "id": "view-in-github",
        "colab_type": "text"
      },
      "source": [
        "<a href=\"https://colab.research.google.com/github/DanielAvendana/-NF3-BIG-DATA-Daniel-Avendana/blob/main/NF3_BIG_DATA_Daniel_Ramos.ipynb\" target=\"_parent\"><img src=\"https://colab.research.google.com/assets/colab-badge.svg\" alt=\"Open In Colab\"/></a>"
      ]
    },
    {
      "cell_type": "markdown",
      "source": [
        "Universidade Estacio de Sá\n",
        "\n",
        "Faculdade de Tecnologia da Informação\n",
        "\n",
        "Tópicos de Big Data em Python\n",
        "\n",
        "Professora: Simone Ingrid Monteiro Gama\n",
        "\n",
        "Aluno: Daniel Avendana de Moraes Ramos"
      ],
      "metadata": {
        "id": "bWcqrTUbiSpx"
      }
    },
    {
      "cell_type": "code",
      "source": [
        "#Obtendo o DataSet:\n",
        "\n",
        "import pandas as pd\n",
        "import requests\n",
        "\n",
        "link = \"https://raw.githubusercontent.com/DanielAvendana/-NF3-BIG-DATA-Daniel-Avendana/main/world_alcohol.csv\"\n",
        "alcool = pd.read_csv(link)"
      ],
      "metadata": {
        "id": "Pk8hZV0z0yts"
      },
      "execution_count": null,
      "outputs": []
    },
    {
      "cell_type": "code",
      "source": [
        "#Questão 1 - Item A:\n",
        "\n",
        "agrupado_tipo = alcool.groupby(\"Beverage Types\", group_keys=True).apply(lambda x: x)\n",
        "\n",
        "agrupado_tipo.to_csv(\"Q1_A.csv\", index = 0) #Para vizualização no Excel e Conferência!\n",
        "\n",
        "print(agrupado_tipo)"
      ],
      "metadata": {
        "id": "qsajxl0y1Jx3"
      },
      "execution_count": null,
      "outputs": []
    },
    {
      "cell_type": "code",
      "source": [
        "#Questão 1 - Item A (Modo Alternativo):\n",
        "\n",
        "agrupado_tipo_alternativo = alcool.sort_values(by = \"Beverage Types\")\n",
        "\n",
        "agrupado_tipo_alternativo.to_csv(\"Q1_A_ALT.csv\", index = 0) #Abra no Excel para melhor visualização!\n",
        "\n",
        "print(agrupado_tipo_alternativo)"
      ],
      "metadata": {
        "id": "epJEgRtxnWU8"
      },
      "execution_count": null,
      "outputs": []
    },
    {
      "cell_type": "code",
      "source": [
        "#Questão 1 - Item B\n",
        "\n",
        "agrupado_regiao_ano = alcool.groupby([\"WHO region\", \"Year\"], group_keys=True).apply(lambda x: x)\n",
        "\n",
        "agrupado_regiao_ano.to_csv(\"Q1_B.csv\", index = 0) #Abra no Excel para melhor visualização!\n",
        "\n",
        "print(agrupado_regiao_ano)"
      ],
      "metadata": {
        "id": "HhOaG6T4pSzq"
      },
      "execution_count": null,
      "outputs": []
    },
    {
      "cell_type": "code",
      "source": [
        "#Questão 1 - Item B (Modo Alternativo):\n",
        "\n",
        "agrupado_regiao_ano_alternativo = alcool.sort_values(by = [\"WHO region\", \"Year\"])\n",
        "\n",
        "agrupado_regiao_ano_alternativo.to_csv(\"Q1_B_ALT.csv\", index = 0) #Abra no Excel para melhor visualização!\n",
        "\n",
        "print(agrupado_regiao_ano_alternativo)"
      ],
      "metadata": {
        "id": "bm5XVlIinqwT"
      },
      "execution_count": null,
      "outputs": []
    },
    {
      "cell_type": "code",
      "source": [
        "#Questão 1 - Item C\n",
        "contagem = alcool.loc[:, [\"WHO region\", \"Country\"]].groupby(\"WHO region\").value_counts()\n",
        "soma = alcool.loc[:, [\"Display Value\"]].sum()\n",
        "\n",
        "print(f\"Numero de ocorrencias de Regiões e Países:\\n\\n{contagem}\\n\\n\")\n",
        "print(f\"Soma da coluna valores por bebidas:\\n\\n{soma}\")"
      ],
      "metadata": {
        "id": "3-X4JkG_w5it"
      },
      "execution_count": null,
      "outputs": []
    },
    {
      "cell_type": "code",
      "source": [
        "#Questão 1 - Item D\n",
        "\n",
        "import matplotlib.pyplot as plt\n",
        "\n",
        "insights = alcool.loc[:, [\"Beverage Types\",\"Display Value\"]].groupby(\"Beverage Types\").agg([\"mean\",pd.Series.mode,\"median\"])\n",
        "e_descritiva = alcool.loc[:, [\"Beverage Types\",\"Display Value\"]].groupby(\"Beverage Types\").agg(\"describe\")\n",
        "data = alcool.loc[:, [\"Beverage Types\",\"Display Value\"]].groupby(\"Beverage Types\").mean()\n",
        "grafico = plt.plot(data)\n",
        "\n",
        "print(f\"Média, Moda e Mediana da coluna valores. Agrupado por tipos de bebida:\\n\\n{round(insights,2)}\\n\\n\")\n",
        "print(f\"Descrição estatistica da coluna valores. Agrupado por tipos de bebida:\\n\\n{round(e_descritiva,2)}\\n\\n\")\n",
        "print(\"Grafico Tipo X Preços:\\n\\n\")"
      ],
      "metadata": {
        "id": "dCIp5qpKWiuP"
      },
      "execution_count": null,
      "outputs": []
    },
    {
      "cell_type": "code",
      "source": [
        "#Questão 1 - Item E:\n",
        "\n",
        "bebidas_1985 = alcool.loc[alcool['Year'] == 1985, [\"Beverage Types\"]]\n",
        "regiao_maior_4 = alcool.loc[alcool['Display Value'] > 4, [\"WHO region\"]]\n",
        "\n",
        "print(f\"Coluna de Bebidas no ano de 1985:\\n\\n{bebidas_1985}\\n\\n\")\n",
        "print(f\"Coluna de Região com valor superior a 4:\\n\\n{regiao_maior_4}\")"
      ],
      "metadata": {
        "id": "vGDfZI0kzmbt"
      },
      "execution_count": null,
      "outputs": []
    },
    {
      "cell_type": "code",
      "source": [
        "#Obtendo o DataSet:\n",
        "\n",
        "import pandas as pd\n",
        "\n",
        "prouni = pd.read_csv(\"https://raw.githubusercontent.com/DanielAvendana/-NF3-BIG-DATA-Daniel-Avendana/main/cursos-prouni.csv\")\n",
        "\n",
        "print(prouni)"
      ],
      "metadata": {
        "id": "Kkhsg9VpibLK"
      },
      "execution_count": null,
      "outputs": []
    },
    {
      "cell_type": "code",
      "source": [
        "#Questão 2 - Item A:\n",
        "\n",
        "import numpy as np\n",
        "\n",
        "prouni['nota_integral_ampla'] = prouni['nota_integral_ampla'].replace(np.nan, 0.0)\n",
        "prouni['nota_integral_cotas'] = prouni['nota_integral_cotas'].replace(np.nan, 0.0)\n",
        "prouni['nota_parcial_ampla'] = prouni['nota_parcial_ampla'].replace(np.nan, 0.0)\n",
        "prouni['nota_parcial_cotas'] = prouni['nota_parcial_cotas'].replace(np.nan, 0.0)\n",
        "\n",
        "print(prouni)"
      ],
      "metadata": {
        "id": "dCjq8p3_FGSG"
      },
      "execution_count": null,
      "outputs": []
    },
    {
      "cell_type": "code",
      "source": [
        "#Questao 2 - Item B\n",
        "\n",
        "graus = prouni.groupby(\"grau\", group_keys = True).apply(lambda x: x)\n",
        "\n",
        "graus.to_csv(\"Q2_B.csv\", index = 0) #Abra no Excel para melhor visualização!\n",
        "\n",
        "print(graus)"
      ],
      "metadata": {
        "id": "14Cq-U85jqIs"
      },
      "execution_count": null,
      "outputs": []
    },
    {
      "cell_type": "code",
      "source": [
        "#Questao 2 - Item B (Modo Alternativo)\n",
        "\n",
        "graus_alternativo = prouni.sort_values(by = \"grau\")\n",
        "\n",
        "graus_alternativo.to_csv(\"Q2_B_ALT.csv\", index = 0) #Abra no Excel para melhor visualização!\n",
        "\n",
        "print(graus_alternativo)"
      ],
      "metadata": {
        "id": "voHPZRakka4b"
      },
      "execution_count": null,
      "outputs": []
    },
    {
      "cell_type": "code",
      "source": [
        "#Questao 2 - Item C\n",
        "\n",
        "prouni_n_indexado = prouni.set_index(\"nome\")\n",
        "\n",
        "cursos = prouni_n_indexado.loc[[\"Medicina\", \"Matemática\", \"Pedagogia\"]].groupby(\"nome\", group_keys = False).apply(lambda x: x)\n",
        "\n",
        "cursos.to_csv(\"Q2_C.csv\", index = 1) #Abra no Excel para melhor visualização!\n",
        "\n",
        "print(cursos)"
      ],
      "metadata": {
        "id": "HODg1TUDk1QL"
      },
      "execution_count": null,
      "outputs": []
    },
    {
      "cell_type": "code",
      "source": [
        "#Questao 2 - Item D\n",
        "\n",
        "media_estado = prouni.loc[:, [\"uf_busca\",\"nota_integral_ampla\",\"nota_integral_cotas\"]].groupby(\"uf_busca\").mean()\n",
        "\n",
        "print(round(media_estado,2))"
      ],
      "metadata": {
        "id": "ecuTo4bHbWn_"
      },
      "execution_count": null,
      "outputs": []
    },
    {
      "cell_type": "code",
      "source": [
        "#Questao 2 - Item E\n",
        "\n",
        "prouni_g_indexado = prouni.set_index(\"grau\")\n",
        "\n",
        "tecnologicos = prouni_g_indexado.loc[[\"Tecnológico\"]].groupby(\"grau\", group_keys = False).apply(lambda x: x)\n",
        "\n",
        "tecnologicos.to_csv(\"Q2_E.csv\", index = 1) #Abra no Excel para melhor visualização!\n",
        "\n",
        "print(tecnologicos)"
      ],
      "metadata": {
        "id": "mf5EgjvhtQXz"
      },
      "execution_count": null,
      "outputs": []
    },
    {
      "cell_type": "code",
      "source": [
        "#Questao 2 - Item F\n",
        "\n",
        "prouni = prouni.drop(columns = [\"cidade_filtro\"])\n",
        "\n",
        "print(prouni)"
      ],
      "metadata": {
        "id": "V6XdhXSXu8EA"
      },
      "execution_count": null,
      "outputs": []
    },
    {
      "cell_type": "code",
      "source": [
        "#Questao 2 - Item G\n",
        "\n",
        "media_med = prouni.loc[prouni[\"nome\"] == \"Medicina\", [\"nome\", \"mensalidade\"]].groupby(\"nome\").mean(numeric_only = True)\n",
        "\n",
        "print(f\"Mensalidade media:\\n\\n{round(media_med,2)}\")"
      ],
      "metadata": {
        "id": "HUwSvl_LwM-I"
      },
      "execution_count": null,
      "outputs": []
    },
    {
      "cell_type": "code",
      "source": [
        "#Questao 2 - Item H\n",
        "\n",
        "media_integral = prouni.loc[prouni[\"turno\"] == \"Integral\", [\"turno\",\"nota_integral_ampla\",\"nota_integral_cotas\"]].groupby(\"turno\").mean(numeric_only = True)\n",
        "\n",
        "print(\"Média das notas de corte:\\n\")\n",
        "print(round(media_integral,2))"
      ],
      "metadata": {
        "id": "1H0zZ5MvhIF4"
      },
      "execution_count": null,
      "outputs": []
    },
    {
      "cell_type": "code",
      "source": [
        "#Questao 2 - Item I\n",
        "\n",
        "bacharelado_corte = prouni.loc[prouni[\"grau\"] == \"Bacharelado\", [\"grau\",\"nota_integral_ampla\"]].groupby(\"grau\").describe()\n",
        "\n",
        "print(round(bacharelado_corte, 2))"
      ],
      "metadata": {
        "id": "EKxnFp-qxwUT"
      },
      "execution_count": null,
      "outputs": []
    },
    {
      "cell_type": "code",
      "source": [
        "#Questao 2 - Item J\n",
        "\n",
        "import matplotlib.pyplot as plt\n",
        "\n",
        "dados = prouni.loc[:, [\"grau\",\"nota_integral_cotas\"]].groupby(\"grau\").mean()\n",
        "print(dados)\n",
        "\n",
        "graf = plt.plot(dados)"
      ],
      "metadata": {
        "id": "Q6jaLJxa68pl"
      },
      "execution_count": null,
      "outputs": []
    }
  ]
}